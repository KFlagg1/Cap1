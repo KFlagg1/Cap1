{
 "cells": [
  {
   "cell_type": "markdown",
   "metadata": {},
   "source": [
    "# SUMMARY\n",
    "\n",
    "The goal of this model is create a tool for predicting the location (borough) of 311 service calls\n",
    "given variables/features including Status, Agency responding, Complaint Type, and Date.\n",
    "\n",
    "311 is a non-emergency service call-line that allows residence to place a complaint regarding \n",
    "actions or conditions negatively effect the living conditions throughout the city. Complaints are passed on to \n",
    "a responding agency for resolution.\n",
    "\n",
    "This model is a preliminary step in the creation of broader models of NYC open data.\n",
    "\n",
    "- [Setup](#Setup)\n",
    "- [Import](#Import)\n",
    "- [EDA](#EDA)\n",
    "- [Feature Creation](#FCE)\n",
    "- [Feature Engineering](#FE2)\n",
    "- [Random State / Visual EDA](#RSEDA)\n",
    "- [Accuracy / PreProcessing](#AccPrep)\n",
    "- [Model Selection](#MS)\n",
    "- [Conclusion](#Conc)\n",
    "- [Next Steps](#NS)\n"
   ]
  },
  {
   "cell_type": "markdown",
   "metadata": {},
   "source": [
    "<a id='Setup'></a>\n",
    "## IMPORTS / NOTEBOOK SET-UP"
   ]
  },
  {
   "cell_type": "code",
   "execution_count": 2,
   "metadata": {},
   "outputs": [],
   "source": [
    "import pandas as pd\n",
    "import numpy as np\n",
    "import matplotlib.pyplot as plt\n",
    "%matplotlib inline\n",
    "\n",
    "import seaborn as sns\n",
    "\n",
    "import sqlite3\n",
    "\n",
    "from sklearn.model_selection import cross_val_score, train_test_split, GridSearchCV\n",
    "from sklearn.preprocessing import LabelEncoder, StandardScaler, OneHotEncoder\n",
    "from sklearn.metrics import mean_squared_error,accuracy_score,r2_score,classification_report\n",
    "from sklearn.linear_model import LogisticRegression\n",
    "from sklearn.feature_selection import RFE\n",
    "\n",
    "\n",
    "pd.set_option('display.max_columns', None)\n",
    "pd.set_option('display.max_rows', 100)\n",
    "\n",
    "\n",
    "import pickle"
   ]
  },
  {
   "cell_type": "code",
   "execution_count": 3,
   "metadata": {
    "collapsed": true
   },
   "outputs": [],
   "source": [
    "sqlite_db = 'borough.sqlite'\n",
    "capcon = sqlite3.connect(sqlite_db) \n",
    "c = capcon.cursor()"
   ]
  },
  {
   "cell_type": "markdown",
   "metadata": {},
   "source": [
    "<a id='Import'></a>\n",
    "\n",
    "## IMPORT DATA FROM CSV FILES"
   ]
  },
  {
   "cell_type": "code",
   "execution_count": 4,
   "metadata": {},
   "outputs": [
    {
     "name": "stdout",
     "output_type": "stream",
     "text": [
      "(1570940, 7)\n",
      "<class 'pandas.core.frame.DataFrame'>\n",
      "RangeIndex: 1570940 entries, 0 to 1570939\n",
      "Data columns (total 7 columns):\n",
      "Created Date      1570940 non-null object\n",
      "Agency            1570940 non-null object\n",
      "Complaint Type    1570940 non-null object\n",
      "Status            1570915 non-null object\n",
      "Borough           1570940 non-null object\n",
      "Latitude          1551934 non-null float32\n",
      "Longitude         1551934 non-null float32\n",
      "dtypes: float32(2), object(5)\n",
      "memory usage: 515.0 MB\n"
     ]
    }
   ],
   "source": [
    "## Because the csv source file has over 1.5 Million rows and +50 columns, a sub-selection was take to only include the \n",
    "## values that were non-repetitive and would possibly be included as model features. This saved file space and \n",
    "## computational expense.\n",
    "\n",
    "cp311=pd.read_csv('311_Service_Requests_for_HPD__DOB_and_DEP_for_2016_to_Present.csv',\n",
    "                low_memory=False,\n",
    "               usecols=[\"Created Date\", \"Latitude\", \"Longitude\",\"Agency\",\"Borough\",\"Complaint Type\",\"Status\",\"Agency\"],\n",
    "               dtype={\"Latitude\":np.float32,\n",
    "                      \"Longitude\":np.float32,\n",
    "                      \"Agency\":'str',\n",
    "                      \"Created Date\": 'str',\n",
    "                      \"Complaint Type\": 'str',\n",
    "                      \"Status\":'str',\n",
    "                      \"Agency\":\"str\",\n",
    "                      \"Borough\":'str'},\n",
    "\n",
    "                )\n",
    "print(cp311.shape)\n",
    "cp311.info(memory_usage=\"deep\")"
   ]
  },
  {
   "cell_type": "markdown",
   "metadata": {},
   "source": [
    "<a id='EDA'></a>\n",
    "\n",
    "## EDA\n",
    "This section is to standardize feature names and and the data set and remove values that my null values"
   ]
  },
  {
   "cell_type": "code",
   "execution_count": 5,
   "metadata": {
    "collapsed": true
   },
   "outputs": [],
   "source": [
    "# Given the large dataset, I chose to drop all rows that have NullValues because they are small percent of the data\n",
    "\n",
    "cp311 = cp311.dropna(axis = 0).copy()"
   ]
  },
  {
   "cell_type": "code",
   "execution_count": 6,
   "metadata": {},
   "outputs": [
    {
     "name": "stdout",
     "output_type": "stream",
     "text": [
      "<class 'pandas.core.frame.DataFrame'>\n",
      "Int64Index: 1551909 entries, 0 to 1570939\n",
      "Data columns (total 7 columns):\n",
      "Created Date      1551909 non-null object\n",
      "Agency            1551909 non-null object\n",
      "Complaint Type    1551909 non-null object\n",
      "Status            1551909 non-null object\n",
      "Borough           1551909 non-null object\n",
      "Latitude          1551909 non-null float32\n",
      "Longitude         1551909 non-null float32\n",
      "dtypes: float32(2), object(5)\n",
      "memory usage: 82.9+ MB\n"
     ]
    }
   ],
   "source": [
    "# Examine the dataframe after the dropping N/A's.\n",
    "cp311.info()"
   ]
  },
  {
   "cell_type": "code",
   "execution_count": 7,
   "metadata": {},
   "outputs": [
    {
     "data": {
      "text/html": [
       "<div>\n",
       "<style>\n",
       "    .dataframe thead tr:only-child th {\n",
       "        text-align: right;\n",
       "    }\n",
       "\n",
       "    .dataframe thead th {\n",
       "        text-align: left;\n",
       "    }\n",
       "\n",
       "    .dataframe tbody tr th {\n",
       "        vertical-align: top;\n",
       "    }\n",
       "</style>\n",
       "<table border=\"1\" class=\"dataframe\">\n",
       "  <thead>\n",
       "    <tr style=\"text-align: right;\">\n",
       "      <th></th>\n",
       "      <th>Created Date</th>\n",
       "      <th>Agency</th>\n",
       "      <th>Complaint Type</th>\n",
       "      <th>Status</th>\n",
       "      <th>Borough</th>\n",
       "      <th>Latitude</th>\n",
       "      <th>Longitude</th>\n",
       "    </tr>\n",
       "  </thead>\n",
       "  <tbody>\n",
       "    <tr>\n",
       "      <th>0</th>\n",
       "      <td>03/06/2016 06:07:00 PM</td>\n",
       "      <td>DEP</td>\n",
       "      <td>Water System</td>\n",
       "      <td>Closed</td>\n",
       "      <td>QUEENS</td>\n",
       "      <td>40.745983</td>\n",
       "      <td>-73.773941</td>\n",
       "    </tr>\n",
       "    <tr>\n",
       "      <th>1</th>\n",
       "      <td>01/28/2016 09:10:41 PM</td>\n",
       "      <td>DOB</td>\n",
       "      <td>Building/Use</td>\n",
       "      <td>Closed</td>\n",
       "      <td>BROOKLYN</td>\n",
       "      <td>40.618141</td>\n",
       "      <td>-73.903084</td>\n",
       "    </tr>\n",
       "    <tr>\n",
       "      <th>2</th>\n",
       "      <td>03/16/2016 06:16:00 AM</td>\n",
       "      <td>DEP</td>\n",
       "      <td>Sewer</td>\n",
       "      <td>Started</td>\n",
       "      <td>BRONX</td>\n",
       "      <td>40.852383</td>\n",
       "      <td>-73.843513</td>\n",
       "    </tr>\n",
       "  </tbody>\n",
       "</table>\n",
       "</div>"
      ],
      "text/plain": [
       "             Created Date Agency Complaint Type   Status   Borough   Latitude  \\\n",
       "0  03/06/2016 06:07:00 PM    DEP   Water System   Closed    QUEENS  40.745983   \n",
       "1  01/28/2016 09:10:41 PM    DOB   Building/Use   Closed  BROOKLYN  40.618141   \n",
       "2  03/16/2016 06:16:00 AM    DEP          Sewer  Started     BRONX  40.852383   \n",
       "\n",
       "   Longitude  \n",
       "0 -73.773941  \n",
       "1 -73.903084  \n",
       "2 -73.843513  "
      ]
     },
     "execution_count": 7,
     "metadata": {},
     "output_type": "execute_result"
    }
   ],
   "source": [
    "# Examine Data details Objects and Numbers\n",
    "cp311.head(3)"
   ]
  },
  {
   "cell_type": "code",
   "execution_count": 9,
   "metadata": {},
   "outputs": [],
   "source": [
    "# Further cleaning on the data to standardize lowercase, and add remove gaps\n",
    "cp311.columns = [ x.lower().replace(' ','_') for x in cp311.columns]"
   ]
  },
  {
   "cell_type": "code",
   "execution_count": 10,
   "metadata": {
    "collapsed": true
   },
   "outputs": [],
   "source": [
    "# Date columns was converted to Datetime in order to use it to convert the index \n",
    "cp311[\"created_date\"] = pd.to_datetime(cp311['created_date'],infer_datetime_format=True)"
   ]
  },
  {
   "cell_type": "code",
   "execution_count": 11,
   "metadata": {},
   "outputs": [
    {
     "data": {
      "text/html": [
       "<div>\n",
       "<style>\n",
       "    .dataframe thead tr:only-child th {\n",
       "        text-align: right;\n",
       "    }\n",
       "\n",
       "    .dataframe thead th {\n",
       "        text-align: left;\n",
       "    }\n",
       "\n",
       "    .dataframe tbody tr th {\n",
       "        vertical-align: top;\n",
       "    }\n",
       "</style>\n",
       "<table border=\"1\" class=\"dataframe\">\n",
       "  <thead>\n",
       "    <tr style=\"text-align: right;\">\n",
       "      <th></th>\n",
       "      <th>created_date</th>\n",
       "      <th>agency</th>\n",
       "      <th>complaint_type</th>\n",
       "      <th>status</th>\n",
       "      <th>borough</th>\n",
       "      <th>latitude</th>\n",
       "      <th>longitude</th>\n",
       "    </tr>\n",
       "    <tr>\n",
       "      <th>day</th>\n",
       "      <th></th>\n",
       "      <th></th>\n",
       "      <th></th>\n",
       "      <th></th>\n",
       "      <th></th>\n",
       "      <th></th>\n",
       "      <th></th>\n",
       "    </tr>\n",
       "  </thead>\n",
       "  <tbody>\n",
       "    <tr>\n",
       "      <th>2016-03-06</th>\n",
       "      <td>2016-03-06 18:07:00</td>\n",
       "      <td>DEP</td>\n",
       "      <td>Water System</td>\n",
       "      <td>Closed</td>\n",
       "      <td>QUEENS</td>\n",
       "      <td>40.745983</td>\n",
       "      <td>-73.773941</td>\n",
       "    </tr>\n",
       "    <tr>\n",
       "      <th>2016-01-28</th>\n",
       "      <td>2016-01-28 21:10:41</td>\n",
       "      <td>DOB</td>\n",
       "      <td>Building/Use</td>\n",
       "      <td>Closed</td>\n",
       "      <td>BROOKLYN</td>\n",
       "      <td>40.618141</td>\n",
       "      <td>-73.903084</td>\n",
       "    </tr>\n",
       "  </tbody>\n",
       "</table>\n",
       "</div>"
      ],
      "text/plain": [
       "                  created_date agency complaint_type  status   borough  \\\n",
       "day                                                                      \n",
       "2016-03-06 2016-03-06 18:07:00    DEP   Water System  Closed    QUEENS   \n",
       "2016-01-28 2016-01-28 21:10:41    DOB   Building/Use  Closed  BROOKLYN   \n",
       "\n",
       "             latitude  longitude  \n",
       "day                               \n",
       "2016-03-06  40.745983 -73.773941  \n",
       "2016-01-28  40.618141 -73.903084  "
      ]
     },
     "execution_count": 11,
     "metadata": {},
     "output_type": "execute_result"
    }
   ],
   "source": [
    "# Exchanging the index to Datetime to allow for future timeseries analysis\n",
    "cp311['day'] = cp311.created_date.dt.to_period('D')\n",
    "cp311.set_index('day', inplace=True)\n",
    "cp311.head(2)"
   ]
  },
  {
   "cell_type": "code",
   "execution_count": 62,
   "metadata": {
    "collapsed": true
   },
   "outputs": [],
   "source": [
    "#  Saved file to csv to allow me to open file with initial transformations\n",
    "#cp311.to_csv('cp311.csv',index=True)"
   ]
  },
  {
   "cell_type": "code",
   "execution_count": 368,
   "metadata": {
    "collapsed": true
   },
   "outputs": [],
   "source": [
    "cp311 = pd.read_csv('cp311.csv')"
   ]
  },
  {
   "cell_type": "code",
   "execution_count": 12,
   "metadata": {
    "scrolled": true
   },
   "outputs": [
    {
     "data": {
      "text/html": [
       "<div>\n",
       "<style>\n",
       "    .dataframe thead tr:only-child th {\n",
       "        text-align: right;\n",
       "    }\n",
       "\n",
       "    .dataframe thead th {\n",
       "        text-align: left;\n",
       "    }\n",
       "\n",
       "    .dataframe tbody tr th {\n",
       "        vertical-align: top;\n",
       "    }\n",
       "</style>\n",
       "<table border=\"1\" class=\"dataframe\">\n",
       "  <thead>\n",
       "    <tr style=\"text-align: right;\">\n",
       "      <th></th>\n",
       "      <th>status</th>\n",
       "    </tr>\n",
       "    <tr>\n",
       "      <th>borough</th>\n",
       "      <th></th>\n",
       "    </tr>\n",
       "  </thead>\n",
       "  <tbody>\n",
       "    <tr>\n",
       "      <th>BRONX</th>\n",
       "      <td>396870</td>\n",
       "    </tr>\n",
       "    <tr>\n",
       "      <th>BROOKLYN</th>\n",
       "      <td>489306</td>\n",
       "    </tr>\n",
       "    <tr>\n",
       "      <th>MANHATTAN</th>\n",
       "      <td>349778</td>\n",
       "    </tr>\n",
       "    <tr>\n",
       "      <th>QUEENS</th>\n",
       "      <td>267317</td>\n",
       "    </tr>\n",
       "    <tr>\n",
       "      <th>STATEN ISLAND</th>\n",
       "      <td>48638</td>\n",
       "    </tr>\n",
       "  </tbody>\n",
       "</table>\n",
       "</div>"
      ],
      "text/plain": [
       "               status\n",
       "borough              \n",
       "BRONX          396870\n",
       "BROOKLYN       489306\n",
       "MANHATTAN      349778\n",
       "QUEENS         267317\n",
       "STATEN ISLAND   48638"
      ]
     },
     "execution_count": 12,
     "metadata": {},
     "output_type": "execute_result"
    }
   ],
   "source": [
    "# Further EDA looking at the basic distribution of the target variable\n",
    "\n",
    "cp311[['status']].groupby([cp311.borough]).count()"
   ]
  },
  {
   "cell_type": "code",
   "execution_count": 14,
   "metadata": {
    "scrolled": true
   },
   "outputs": [
    {
     "data": {
      "text/html": [
       "<div>\n",
       "<style>\n",
       "    .dataframe thead tr:only-child th {\n",
       "        text-align: right;\n",
       "    }\n",
       "\n",
       "    .dataframe thead th {\n",
       "        text-align: left;\n",
       "    }\n",
       "\n",
       "    .dataframe tbody tr th {\n",
       "        vertical-align: top;\n",
       "    }\n",
       "</style>\n",
       "<table border=\"1\" class=\"dataframe\">\n",
       "  <thead>\n",
       "    <tr style=\"text-align: right;\">\n",
       "      <th></th>\n",
       "      <th>created_date</th>\n",
       "      <th>agency</th>\n",
       "      <th>complaint_type</th>\n",
       "      <th>status</th>\n",
       "      <th>borough</th>\n",
       "      <th>latitude</th>\n",
       "      <th>longitude</th>\n",
       "    </tr>\n",
       "    <tr>\n",
       "      <th>day</th>\n",
       "      <th></th>\n",
       "      <th></th>\n",
       "      <th></th>\n",
       "      <th></th>\n",
       "      <th></th>\n",
       "      <th></th>\n",
       "      <th></th>\n",
       "    </tr>\n",
       "  </thead>\n",
       "  <tbody>\n",
       "    <tr>\n",
       "      <th>2016-03-06</th>\n",
       "      <td>2016-03-06 18:07:00</td>\n",
       "      <td>DEP</td>\n",
       "      <td>Water System</td>\n",
       "      <td>Closed</td>\n",
       "      <td>QUEENS</td>\n",
       "      <td>40.745983</td>\n",
       "      <td>-73.773941</td>\n",
       "    </tr>\n",
       "    <tr>\n",
       "      <th>2016-01-28</th>\n",
       "      <td>2016-01-28 21:10:41</td>\n",
       "      <td>DOB</td>\n",
       "      <td>Building/Use</td>\n",
       "      <td>Closed</td>\n",
       "      <td>BROOKLYN</td>\n",
       "      <td>40.618141</td>\n",
       "      <td>-73.903084</td>\n",
       "    </tr>\n",
       "  </tbody>\n",
       "</table>\n",
       "</div>"
      ],
      "text/plain": [
       "                  created_date agency complaint_type  status   borough  \\\n",
       "day                                                                      \n",
       "2016-03-06 2016-03-06 18:07:00    DEP   Water System  Closed    QUEENS   \n",
       "2016-01-28 2016-01-28 21:10:41    DOB   Building/Use  Closed  BROOKLYN   \n",
       "\n",
       "             latitude  longitude  \n",
       "day                               \n",
       "2016-03-06  40.745983 -73.773941  \n",
       "2016-01-28  40.618141 -73.903084  "
      ]
     },
     "execution_count": 14,
     "metadata": {},
     "output_type": "execute_result"
    }
   ],
   "source": [
    "cp311.head(2)"
   ]
  },
  {
   "cell_type": "markdown",
   "metadata": {},
   "source": [
    "<a id='FCE'></a>\n",
    "\n",
    "### FEATURE CREATION / ENGINEERING\n",
    "\n",
    "Created Dummy variables for the major Feature Categories.\n",
    "This was done with the thought that regularization and RFE may be used to eliminate less impactful features"
   ]
  },
  {
   "cell_type": "code",
   "execution_count": 15,
   "metadata": {
    "collapsed": true
   },
   "outputs": [],
   "source": [
    "dfagency = pd.get_dummies(cp311['agency'])"
   ]
  },
  {
   "cell_type": "code",
   "execution_count": 16,
   "metadata": {
    "collapsed": true
   },
   "outputs": [],
   "source": [
    "dfstatus = pd.get_dummies(cp311['status'])"
   ]
  },
  {
   "cell_type": "code",
   "execution_count": 17,
   "metadata": {
    "collapsed": true
   },
   "outputs": [],
   "source": [
    "dftype = pd.get_dummies(cp311['complaint_type'])"
   ]
  },
  {
   "cell_type": "code",
   "execution_count": 18,
   "metadata": {
    "collapsed": true
   },
   "outputs": [],
   "source": [
    "# Label Encoding to Features to create numeric columns out of original features\n",
    "# This gives me the flexability to use either the Dummy Columns or the LabelEncoded(single)\n",
    "# columns in my lists of model features\n",
    "\n",
    "le = LabelEncoder()\n",
    "cp311['created_date'] = le.fit_transform(cp311['created_date'])\n",
    "cp311[\"complaint_type\"] = le.fit_transform(cp311[\"complaint_type\"])\n",
    "cp311[\"borough\"] = le.fit_transform(cp311[\"borough\"])\n",
    "cp311[\"agency\"] = le.fit_transform(cp311[\"agency\"])\n",
    "cp311[\"status\"] = le.fit_transform(cp311[\"status\"])\n",
    "\n"
   ]
  },
  {
   "cell_type": "code",
   "execution_count": 19,
   "metadata": {},
   "outputs": [
    {
     "data": {
      "text/html": [
       "<div>\n",
       "<style>\n",
       "    .dataframe thead tr:only-child th {\n",
       "        text-align: right;\n",
       "    }\n",
       "\n",
       "    .dataframe thead th {\n",
       "        text-align: left;\n",
       "    }\n",
       "\n",
       "    .dataframe tbody tr th {\n",
       "        vertical-align: top;\n",
       "    }\n",
       "</style>\n",
       "<table border=\"1\" class=\"dataframe\">\n",
       "  <thead>\n",
       "    <tr style=\"text-align: right;\">\n",
       "      <th></th>\n",
       "      <th>created_date</th>\n",
       "      <th>agency</th>\n",
       "      <th>complaint_type</th>\n",
       "      <th>status</th>\n",
       "      <th>borough</th>\n",
       "      <th>latitude</th>\n",
       "      <th>longitude</th>\n",
       "    </tr>\n",
       "    <tr>\n",
       "      <th>day</th>\n",
       "      <th></th>\n",
       "      <th></th>\n",
       "      <th></th>\n",
       "      <th></th>\n",
       "      <th></th>\n",
       "      <th></th>\n",
       "      <th></th>\n",
       "    </tr>\n",
       "  </thead>\n",
       "  <tbody>\n",
       "    <tr>\n",
       "      <th>2016-03-06</th>\n",
       "      <td>151167</td>\n",
       "      <td>0</td>\n",
       "      <td>47</td>\n",
       "      <td>1</td>\n",
       "      <td>3</td>\n",
       "      <td>40.745983</td>\n",
       "      <td>-73.773941</td>\n",
       "    </tr>\n",
       "    <tr>\n",
       "      <th>2016-01-28</th>\n",
       "      <td>70046</td>\n",
       "      <td>1</td>\n",
       "      <td>7</td>\n",
       "      <td>1</td>\n",
       "      <td>1</td>\n",
       "      <td>40.618141</td>\n",
       "      <td>-73.903084</td>\n",
       "    </tr>\n",
       "  </tbody>\n",
       "</table>\n",
       "</div>"
      ],
      "text/plain": [
       "            created_date  agency  complaint_type  status  borough   latitude  \\\n",
       "day                                                                            \n",
       "2016-03-06        151167       0              47       1        3  40.745983   \n",
       "2016-01-28         70046       1               7       1        1  40.618141   \n",
       "\n",
       "            longitude  \n",
       "day                    \n",
       "2016-03-06 -73.773941  \n",
       "2016-01-28 -73.903084  "
      ]
     },
     "execution_count": 19,
     "metadata": {},
     "output_type": "execute_result"
    }
   ],
   "source": [
    "cp311.head(2)"
   ]
  },
  {
   "cell_type": "markdown",
   "metadata": {},
   "source": [
    "<a id='FE2'></a>\n",
    "\n",
    "## Feature Engineering II\n",
    "Concatenated the DataFrames to create join the dummy variable columns into the base \"cp311\" dataframe"
   ]
  },
  {
   "cell_type": "code",
   "execution_count": 20,
   "metadata": {
    "collapsed": true
   },
   "outputs": [],
   "source": [
    "cp311 = pd.concat([cp311,dfagency],axis=1,join='inner').copy()"
   ]
  },
  {
   "cell_type": "code",
   "execution_count": 21,
   "metadata": {
    "collapsed": true
   },
   "outputs": [],
   "source": [
    "cp311 = pd.concat([cp311,dfstatus],axis=1,join='inner').copy()"
   ]
  },
  {
   "cell_type": "code",
   "execution_count": 22,
   "metadata": {
    "collapsed": true
   },
   "outputs": [],
   "source": [
    "cp311 = pd.concat([cp311,dftype],axis=1,join='inner').copy()"
   ]
  },
  {
   "cell_type": "code",
   "execution_count": 86,
   "metadata": {
    "collapsed": true
   },
   "outputs": [],
   "source": [
    "# Backup the DataFrame version that includes the Dummy columns\n",
    "\n",
    "# cp311.to_csv('cp311_Dummies.csv',index = True)"
   ]
  },
  {
   "cell_type": "code",
   "execution_count": 125,
   "metadata": {
    "collapsed": true,
    "scrolled": false
   },
   "outputs": [],
   "source": [
    "# cp311.drop(['agency','status'],axis = 1, inplace=True)"
   ]
  },
  {
   "cell_type": "code",
   "execution_count": 23,
   "metadata": {
    "scrolled": true
   },
   "outputs": [
    {
     "data": {
      "text/html": [
       "<div>\n",
       "<style>\n",
       "    .dataframe thead tr:only-child th {\n",
       "        text-align: right;\n",
       "    }\n",
       "\n",
       "    .dataframe thead th {\n",
       "        text-align: left;\n",
       "    }\n",
       "\n",
       "    .dataframe tbody tr th {\n",
       "        vertical-align: top;\n",
       "    }\n",
       "</style>\n",
       "<table border=\"1\" class=\"dataframe\">\n",
       "  <thead>\n",
       "    <tr style=\"text-align: right;\">\n",
       "      <th></th>\n",
       "      <th>created_date</th>\n",
       "      <th>agency</th>\n",
       "      <th>complaint_type</th>\n",
       "      <th>status</th>\n",
       "      <th>borough</th>\n",
       "      <th>latitude</th>\n",
       "      <th>longitude</th>\n",
       "      <th>DEP</th>\n",
       "      <th>DOB</th>\n",
       "      <th>HPD</th>\n",
       "      <th>Assigned</th>\n",
       "      <th>Closed</th>\n",
       "      <th>Open</th>\n",
       "      <th>Started</th>\n",
       "      <th>AGENCY</th>\n",
       "      <th>APPLIANCE</th>\n",
       "      <th>ATF</th>\n",
       "      <th>Air Quality</th>\n",
       "      <th>Asbestos</th>\n",
       "      <th>BEST/Site Safety</th>\n",
       "      <th>Boilers</th>\n",
       "      <th>Building/Use</th>\n",
       "      <th>CST</th>\n",
       "      <th>Construction</th>\n",
       "      <th>Cranes and Derricks</th>\n",
       "      <th>DOOR/WINDOW</th>\n",
       "      <th>ELECTRIC</th>\n",
       "      <th>ELEVATOR</th>\n",
       "      <th>Electrical</th>\n",
       "      <th>Elevator</th>\n",
       "      <th>Emergency Response Team (ERT)</th>\n",
       "      <th>FATF</th>\n",
       "      <th>FLOORING/STAIRS</th>\n",
       "      <th>GENERAL</th>\n",
       "      <th>General Construction/Plumbing</th>\n",
       "      <th>HEAT/HOT WATER</th>\n",
       "      <th>Hazardous Materials</th>\n",
       "      <th>Industrial Waste</th>\n",
       "      <th>Interior Demo</th>\n",
       "      <th>Investigations and Discipline (IAD)</th>\n",
       "      <th>Lead</th>\n",
       "      <th>Miscellaneous Categories</th>\n",
       "      <th>Noise</th>\n",
       "      <th>OUTSIDE BUILDING</th>\n",
       "      <th>PAINT/PLASTER</th>\n",
       "      <th>PLUMBING</th>\n",
       "      <th>Plant</th>\n",
       "      <th>Plumbing</th>\n",
       "      <th>SAFETY</th>\n",
       "      <th>SRDE</th>\n",
       "      <th>Scaffold Safety</th>\n",
       "      <th>Sewer</th>\n",
       "      <th>Special Enforcement</th>\n",
       "      <th>Special Natural Area District (SNAD)</th>\n",
       "      <th>Special Projects Inspection Team (SPIT)</th>\n",
       "      <th>Stalled Sites</th>\n",
       "      <th>UNSANITARY CONDITION</th>\n",
       "      <th>VACANT APARTMENT</th>\n",
       "      <th>WATER LEAK</th>\n",
       "      <th>Water Conservation</th>\n",
       "      <th>Water Quality</th>\n",
       "      <th>Water System</th>\n",
       "    </tr>\n",
       "    <tr>\n",
       "      <th>day</th>\n",
       "      <th></th>\n",
       "      <th></th>\n",
       "      <th></th>\n",
       "      <th></th>\n",
       "      <th></th>\n",
       "      <th></th>\n",
       "      <th></th>\n",
       "      <th></th>\n",
       "      <th></th>\n",
       "      <th></th>\n",
       "      <th></th>\n",
       "      <th></th>\n",
       "      <th></th>\n",
       "      <th></th>\n",
       "      <th></th>\n",
       "      <th></th>\n",
       "      <th></th>\n",
       "      <th></th>\n",
       "      <th></th>\n",
       "      <th></th>\n",
       "      <th></th>\n",
       "      <th></th>\n",
       "      <th></th>\n",
       "      <th></th>\n",
       "      <th></th>\n",
       "      <th></th>\n",
       "      <th></th>\n",
       "      <th></th>\n",
       "      <th></th>\n",
       "      <th></th>\n",
       "      <th></th>\n",
       "      <th></th>\n",
       "      <th></th>\n",
       "      <th></th>\n",
       "      <th></th>\n",
       "      <th></th>\n",
       "      <th></th>\n",
       "      <th></th>\n",
       "      <th></th>\n",
       "      <th></th>\n",
       "      <th></th>\n",
       "      <th></th>\n",
       "      <th></th>\n",
       "      <th></th>\n",
       "      <th></th>\n",
       "      <th></th>\n",
       "      <th></th>\n",
       "      <th></th>\n",
       "      <th></th>\n",
       "      <th></th>\n",
       "      <th></th>\n",
       "      <th></th>\n",
       "      <th></th>\n",
       "      <th></th>\n",
       "      <th></th>\n",
       "      <th></th>\n",
       "      <th></th>\n",
       "      <th></th>\n",
       "      <th></th>\n",
       "      <th></th>\n",
       "      <th></th>\n",
       "      <th></th>\n",
       "    </tr>\n",
       "  </thead>\n",
       "  <tbody>\n",
       "    <tr>\n",
       "      <th>2016-03-06</th>\n",
       "      <td>151167</td>\n",
       "      <td>0</td>\n",
       "      <td>47</td>\n",
       "      <td>1</td>\n",
       "      <td>3</td>\n",
       "      <td>40.745983</td>\n",
       "      <td>-73.773941</td>\n",
       "      <td>1</td>\n",
       "      <td>0</td>\n",
       "      <td>0</td>\n",
       "      <td>0</td>\n",
       "      <td>1</td>\n",
       "      <td>0</td>\n",
       "      <td>0</td>\n",
       "      <td>0</td>\n",
       "      <td>0</td>\n",
       "      <td>0</td>\n",
       "      <td>0</td>\n",
       "      <td>0</td>\n",
       "      <td>0</td>\n",
       "      <td>0</td>\n",
       "      <td>0</td>\n",
       "      <td>0</td>\n",
       "      <td>0</td>\n",
       "      <td>0</td>\n",
       "      <td>0</td>\n",
       "      <td>0</td>\n",
       "      <td>0</td>\n",
       "      <td>0</td>\n",
       "      <td>0</td>\n",
       "      <td>0</td>\n",
       "      <td>0</td>\n",
       "      <td>0</td>\n",
       "      <td>0</td>\n",
       "      <td>0</td>\n",
       "      <td>0</td>\n",
       "      <td>0</td>\n",
       "      <td>0</td>\n",
       "      <td>0</td>\n",
       "      <td>0</td>\n",
       "      <td>0</td>\n",
       "      <td>0</td>\n",
       "      <td>0</td>\n",
       "      <td>0</td>\n",
       "      <td>0</td>\n",
       "      <td>0</td>\n",
       "      <td>0</td>\n",
       "      <td>0</td>\n",
       "      <td>0</td>\n",
       "      <td>0</td>\n",
       "      <td>0</td>\n",
       "      <td>0</td>\n",
       "      <td>0</td>\n",
       "      <td>0</td>\n",
       "      <td>0</td>\n",
       "      <td>0</td>\n",
       "      <td>0</td>\n",
       "      <td>0</td>\n",
       "      <td>0</td>\n",
       "      <td>0</td>\n",
       "      <td>0</td>\n",
       "      <td>1</td>\n",
       "    </tr>\n",
       "    <tr>\n",
       "      <th>2016-01-28</th>\n",
       "      <td>70046</td>\n",
       "      <td>1</td>\n",
       "      <td>7</td>\n",
       "      <td>1</td>\n",
       "      <td>1</td>\n",
       "      <td>40.618141</td>\n",
       "      <td>-73.903084</td>\n",
       "      <td>0</td>\n",
       "      <td>1</td>\n",
       "      <td>0</td>\n",
       "      <td>0</td>\n",
       "      <td>1</td>\n",
       "      <td>0</td>\n",
       "      <td>0</td>\n",
       "      <td>0</td>\n",
       "      <td>0</td>\n",
       "      <td>0</td>\n",
       "      <td>0</td>\n",
       "      <td>0</td>\n",
       "      <td>0</td>\n",
       "      <td>0</td>\n",
       "      <td>1</td>\n",
       "      <td>0</td>\n",
       "      <td>0</td>\n",
       "      <td>0</td>\n",
       "      <td>0</td>\n",
       "      <td>0</td>\n",
       "      <td>0</td>\n",
       "      <td>0</td>\n",
       "      <td>0</td>\n",
       "      <td>0</td>\n",
       "      <td>0</td>\n",
       "      <td>0</td>\n",
       "      <td>0</td>\n",
       "      <td>0</td>\n",
       "      <td>0</td>\n",
       "      <td>0</td>\n",
       "      <td>0</td>\n",
       "      <td>0</td>\n",
       "      <td>0</td>\n",
       "      <td>0</td>\n",
       "      <td>0</td>\n",
       "      <td>0</td>\n",
       "      <td>0</td>\n",
       "      <td>0</td>\n",
       "      <td>0</td>\n",
       "      <td>0</td>\n",
       "      <td>0</td>\n",
       "      <td>0</td>\n",
       "      <td>0</td>\n",
       "      <td>0</td>\n",
       "      <td>0</td>\n",
       "      <td>0</td>\n",
       "      <td>0</td>\n",
       "      <td>0</td>\n",
       "      <td>0</td>\n",
       "      <td>0</td>\n",
       "      <td>0</td>\n",
       "      <td>0</td>\n",
       "      <td>0</td>\n",
       "      <td>0</td>\n",
       "      <td>0</td>\n",
       "    </tr>\n",
       "  </tbody>\n",
       "</table>\n",
       "</div>"
      ],
      "text/plain": [
       "            created_date  agency  complaint_type  status  borough   latitude  \\\n",
       "day                                                                            \n",
       "2016-03-06        151167       0              47       1        3  40.745983   \n",
       "2016-01-28         70046       1               7       1        1  40.618141   \n",
       "\n",
       "            longitude  DEP  DOB  HPD  Assigned  Closed  Open  Started  AGENCY  \\\n",
       "day                                                                             \n",
       "2016-03-06 -73.773941    1    0    0         0       1     0        0       0   \n",
       "2016-01-28 -73.903084    0    1    0         0       1     0        0       0   \n",
       "\n",
       "            APPLIANCE  ATF  Air Quality  Asbestos  BEST/Site Safety  Boilers  \\\n",
       "day                                                                            \n",
       "2016-03-06          0    0            0         0                 0        0   \n",
       "2016-01-28          0    0            0         0                 0        0   \n",
       "\n",
       "            Building/Use  CST  Construction  Cranes and Derricks  DOOR/WINDOW  \\\n",
       "day                                                                             \n",
       "2016-03-06             0    0             0                    0            0   \n",
       "2016-01-28             1    0             0                    0            0   \n",
       "\n",
       "            ELECTRIC  ELEVATOR  Electrical  Elevator  \\\n",
       "day                                                    \n",
       "2016-03-06         0         0           0         0   \n",
       "2016-01-28         0         0           0         0   \n",
       "\n",
       "            Emergency Response Team (ERT)  FATF  FLOORING/STAIRS  GENERAL  \\\n",
       "day                                                                         \n",
       "2016-03-06                              0     0                0        0   \n",
       "2016-01-28                              0     0                0        0   \n",
       "\n",
       "            General Construction/Plumbing  HEAT/HOT WATER  \\\n",
       "day                                                         \n",
       "2016-03-06                              0               0   \n",
       "2016-01-28                              0               0   \n",
       "\n",
       "            Hazardous Materials  Industrial Waste  Interior Demo  \\\n",
       "day                                                                \n",
       "2016-03-06                    0                 0              0   \n",
       "2016-01-28                    0                 0              0   \n",
       "\n",
       "            Investigations and Discipline (IAD)  Lead  \\\n",
       "day                                                     \n",
       "2016-03-06                                    0     0   \n",
       "2016-01-28                                    0     0   \n",
       "\n",
       "            Miscellaneous Categories  Noise  OUTSIDE BUILDING  PAINT/PLASTER  \\\n",
       "day                                                                            \n",
       "2016-03-06                         0      0                 0              0   \n",
       "2016-01-28                         0      0                 0              0   \n",
       "\n",
       "            PLUMBING  Plant  Plumbing  SAFETY  SRDE  Scaffold Safety  Sewer  \\\n",
       "day                                                                           \n",
       "2016-03-06         0      0         0       0     0                0      0   \n",
       "2016-01-28         0      0         0       0     0                0      0   \n",
       "\n",
       "            Special Enforcement  Special Natural Area District (SNAD)  \\\n",
       "day                                                                     \n",
       "2016-03-06                    0                                     0   \n",
       "2016-01-28                    0                                     0   \n",
       "\n",
       "            Special Projects Inspection Team (SPIT)  Stalled Sites  \\\n",
       "day                                                                  \n",
       "2016-03-06                                        0              0   \n",
       "2016-01-28                                        0              0   \n",
       "\n",
       "            UNSANITARY CONDITION  VACANT APARTMENT  WATER LEAK  \\\n",
       "day                                                              \n",
       "2016-03-06                     0                 0           0   \n",
       "2016-01-28                     0                 0           0   \n",
       "\n",
       "            Water Conservation  Water Quality  Water System  \n",
       "day                                                          \n",
       "2016-03-06                   0              0             1  \n",
       "2016-01-28                   0              0             0  "
      ]
     },
     "execution_count": 23,
     "metadata": {},
     "output_type": "execute_result"
    }
   ],
   "source": [
    "cp311.head(2)"
   ]
  },
  {
   "cell_type": "markdown",
   "metadata": {},
   "source": [
    "<a id='RSEDA'></a>\n",
    "\n",
    "## Random State / Visual EDA\n",
    "\n",
    "Sampled 20% of the DataFrame(+1M rows) in order to create as sample set for modeling and visualization.  The shape of ~300k rows gave a value that was largely representative of the population and did not result push hardware capabilities."
   ]
  },
  {
   "cell_type": "code",
   "execution_count": 26,
   "metadata": {
    "collapsed": true
   },
   "outputs": [],
   "source": [
    "samp311 = cp311.sample(frac = .2,random_state=757859 )"
   ]
  },
  {
   "cell_type": "code",
   "execution_count": 27,
   "metadata": {},
   "outputs": [
    {
     "data": {
      "text/plain": [
       "2    206086\n",
       "0     71123\n",
       "1     33173\n",
       "Name: agency, dtype: int64"
      ]
     },
     "execution_count": 27,
     "metadata": {},
     "output_type": "execute_result"
    }
   ],
   "source": [
    "samp311.agency.value_counts()"
   ]
  },
  {
   "cell_type": "markdown",
   "metadata": {},
   "source": [
    "### Visualizations\n",
    "Look for differentiating features in Complaint types, Response, Agency, and Borough"
   ]
  },
  {
   "cell_type": "code",
   "execution_count": 282,
   "metadata": {},
   "outputs": [
    {
     "data": {
      "text/plain": [
       "<matplotlib.axes._subplots.AxesSubplot at 0x1cc9ad780>"
      ]
     },
     "execution_count": 282,
     "metadata": {},
     "output_type": "execute_result"
    },
    {
     "data": {
      "image/png": "[encoded data removed]",
      "text/plain": [
       "<matplotlib.figure.Figure at 0x1f6090400>"
      ]
     },
     "metadata": {},
     "output_type": "display_data"
    }
   ],
   "source": [
    "# Look to see if boroughs had different types of complaints, \n",
    "sns.violinplot(x=\"borough\", y=\"complaint_type\",data = samp311)"
   ]
  },
  {
   "cell_type": "code",
   "execution_count": 446,
   "metadata": {},
   "outputs": [
    {
     "data": {
      "image/png": "[encoded data removed]",
      "text/plain": [
       "<matplotlib.figure.Figure at 0x2479419e8>"
      ]
     },
     "metadata": {},
     "output_type": "display_data"
    }
   ],
   "source": [
    "sns.violinplot(x=\"status\", y=\"borough\",data = samp311);"
   ]
  },
  {
   "cell_type": "code",
   "execution_count": 309,
   "metadata": {
    "scrolled": true
   },
   "outputs": [
    {
     "data": {
      "image/png": "[encoded data removed]",
      "text/plain": [
       "<matplotlib.figure.Figure at 0x217db1eb8>"
      ]
     },
     "metadata": {},
     "output_type": "display_data"
    }
   ],
   "source": [
    "f, ax = plt.subplots(figsize=(15, 5))\n",
    "sns.countplot(x=\"complaint_type\", data = samp311);"
   ]
  },
  {
   "cell_type": "code",
   "execution_count": 310,
   "metadata": {},
   "outputs": [
    {
     "data": {
      "image/png": "[encoded data removed]",
      "text/plain": [
       "<matplotlib.figure.Figure at 0x2371f8630>"
      ]
     },
     "metadata": {},
     "output_type": "display_data"
    }
   ],
   "source": [
    "f, ax = plt.subplots(figsize=(15, 5))\n",
    "sns.stripplot(data=samp311, x=\"complaint_type\",y=\"agency\", hue='borough',size = 10);"
   ]
  },
  {
   "cell_type": "markdown",
   "metadata": {},
   "source": [
    "<a id='AccPrep'></a>\n",
    "\n",
    "## Baseline Accuracy\n",
    "Establish the Baselne Accuracy as a point of comparison for model performance"
   ]
  },
  {
   "cell_type": "code",
   "execution_count": 29,
   "metadata": {},
   "outputs": [
    {
     "data": {
      "text/plain": [
       "0.3125"
      ]
     },
     "execution_count": 29,
     "metadata": {},
     "output_type": "execute_result"
    }
   ],
   "source": [
    "# Baseline Borough Accuracy  (Most commonly 311 serviced borough / Total 311 service calls ) in millions\n",
    ".5 / 1.6"
   ]
  },
  {
   "cell_type": "code",
   "execution_count": 379,
   "metadata": {},
   "outputs": [
    {
     "data": {
      "text/plain": [
       "Index(['day', 'created_date', 'agency', 'complaint_type', 'status', 'borough',\n",
       "       'latitude', 'longitude', 'DEP', 'DOB', 'HPD', 'Assigned', 'Closed',\n",
       "       'Open', 'Started', 'AGENCY', 'APPLIANCE', 'ATF', 'Air Quality',\n",
       "       'Asbestos', 'BEST/Site Safety', 'Boilers', 'Building/Use', 'CST',\n",
       "       'Construction', 'Cranes and Derricks', 'DOOR/WINDOW', 'ELECTRIC',\n",
       "       'ELEVATOR', 'Electrical', 'Elevator', 'Emergency Response Team (ERT)',\n",
       "       'FATF', 'FLOORING/STAIRS', 'GENERAL', 'General Construction/Plumbing',\n",
       "       'HEAT/HOT WATER', 'Hazardous Materials', 'Industrial Waste',\n",
       "       'Interior Demo', 'Investigations and Discipline (IAD)', 'Lead',\n",
       "       'Miscellaneous Categories', 'Noise', 'OUTSIDE BUILDING',\n",
       "       'PAINT/PLASTER', 'PLUMBING', 'Plant', 'Plumbing', 'SAFETY', 'SRDE',\n",
       "       'Scaffold Safety', 'Sewer', 'Special Enforcement',\n",
       "       'Special Natural Area District (SNAD)',\n",
       "       'Special Projects Inspection Team (SPIT)', 'Stalled Sites',\n",
       "       'UNSANITARY CONDITION', 'VACANT APARTMENT', 'WATER LEAK',\n",
       "       'Water Conservation', 'Water Quality', 'Water System'],\n",
       "      dtype='object')"
      ]
     },
     "execution_count": 379,
     "metadata": {},
     "output_type": "execute_result"
    }
   ],
   "source": [
    "# Generate a full list of column names, in order to create a list of features to select X and y modeling variables\n",
    "\n",
    "samp311.columns"
   ]
  },
  {
   "cell_type": "code",
   "execution_count": 387,
   "metadata": {
    "collapsed": true
   },
   "outputs": [],
   "source": [
    "# Select/Set features. Removing the base sets listed below, location information (which would be leakage of target)\n",
    "# and the target variable (borough)\n",
    "\n",
    "features =['created_date', 'complaint_type',\n",
    "        'DEP', 'DOB', 'HPD', 'Assigned', 'Closed',\n",
    "       'Open', 'Started', 'AGENCY', 'APPLIANCE', 'ATF', 'Air Quality',\n",
    "       'Asbestos', 'BEST/Site Safety', 'Boilers', 'Building/Use', 'CST',\n",
    "       'Construction', 'Cranes and Derricks', 'DOOR/WINDOW', 'ELECTRIC',\n",
    "       'ELEVATOR', 'Electrical', 'Elevator', 'Emergency Response Team (ERT)',\n",
    "       'FATF', 'FLOORING/STAIRS', 'GENERAL', 'General Construction/Plumbing',\n",
    "       'HEAT/HOT WATER', 'Hazardous Materials', 'Industrial Waste',\n",
    "       'Interior Demo', 'Investigations and Discipline (IAD)', 'Lead',\n",
    "       'Miscellaneous Categories', 'Noise', 'OUTSIDE BUILDING',\n",
    "       'PAINT/PLASTER', 'PLUMBING', 'Plant', 'Plumbing', 'SAFETY', 'SRDE',\n",
    "       'Scaffold Safety', 'Sewer', 'Special Enforcement',\n",
    "       'Special Natural Area District (SNAD)',\n",
    "       'Special Projects Inspection Team (SPIT)', 'Stalled Sites',\n",
    "       'UNSANITARY CONDITION', 'VACANT APARTMENT', 'WATER LEAK',\n",
    "       'Water Conservation', 'Water Quality', 'Water System'\n",
    "          ]\n",
    "\n",
    "# removed the following items from features list ['status','agency','latitude','longitude','borough']\n",
    "\n",
    "X = samp311[features].copy()\n",
    "y = samp311[\"borough\"].copy()"
   ]
  },
  {
   "cell_type": "code",
   "execution_count": 417,
   "metadata": {},
   "outputs": [
    {
     "data": {
      "text/html": [
       "<div>\n",
       "<style>\n",
       "    .dataframe thead tr:only-child th {\n",
       "        text-align: right;\n",
       "    }\n",
       "\n",
       "    .dataframe thead th {\n",
       "        text-align: left;\n",
       "    }\n",
       "\n",
       "    .dataframe tbody tr th {\n",
       "        vertical-align: top;\n",
       "    }\n",
       "</style>\n",
       "<table border=\"1\" class=\"dataframe\">\n",
       "  <thead>\n",
       "    <tr style=\"text-align: right;\">\n",
       "      <th></th>\n",
       "      <th>day</th>\n",
       "      <th>created_date</th>\n",
       "      <th>agency</th>\n",
       "      <th>complaint_type</th>\n",
       "      <th>status</th>\n",
       "      <th>borough</th>\n",
       "      <th>latitude</th>\n",
       "      <th>longitude</th>\n",
       "      <th>DEP</th>\n",
       "      <th>DOB</th>\n",
       "      <th>HPD</th>\n",
       "      <th>Assigned</th>\n",
       "      <th>Closed</th>\n",
       "      <th>Open</th>\n",
       "      <th>Started</th>\n",
       "      <th>AGENCY</th>\n",
       "      <th>APPLIANCE</th>\n",
       "      <th>ATF</th>\n",
       "      <th>Air Quality</th>\n",
       "      <th>Asbestos</th>\n",
       "      <th>BEST/Site Safety</th>\n",
       "      <th>Boilers</th>\n",
       "      <th>Building/Use</th>\n",
       "      <th>CST</th>\n",
       "      <th>Construction</th>\n",
       "      <th>Cranes and Derricks</th>\n",
       "      <th>DOOR/WINDOW</th>\n",
       "      <th>ELECTRIC</th>\n",
       "      <th>ELEVATOR</th>\n",
       "      <th>Electrical</th>\n",
       "      <th>Elevator</th>\n",
       "      <th>Emergency Response Team (ERT)</th>\n",
       "      <th>FATF</th>\n",
       "      <th>FLOORING/STAIRS</th>\n",
       "      <th>GENERAL</th>\n",
       "      <th>General Construction/Plumbing</th>\n",
       "      <th>HEAT/HOT WATER</th>\n",
       "      <th>Hazardous Materials</th>\n",
       "      <th>Industrial Waste</th>\n",
       "      <th>Interior Demo</th>\n",
       "      <th>Investigations and Discipline (IAD)</th>\n",
       "      <th>Lead</th>\n",
       "      <th>Miscellaneous Categories</th>\n",
       "      <th>Noise</th>\n",
       "      <th>OUTSIDE BUILDING</th>\n",
       "      <th>PAINT/PLASTER</th>\n",
       "      <th>PLUMBING</th>\n",
       "      <th>Plant</th>\n",
       "      <th>Plumbing</th>\n",
       "      <th>SAFETY</th>\n",
       "      <th>SRDE</th>\n",
       "      <th>Scaffold Safety</th>\n",
       "      <th>Sewer</th>\n",
       "      <th>Special Enforcement</th>\n",
       "      <th>Special Natural Area District (SNAD)</th>\n",
       "      <th>Special Projects Inspection Team (SPIT)</th>\n",
       "      <th>Stalled Sites</th>\n",
       "      <th>UNSANITARY CONDITION</th>\n",
       "      <th>VACANT APARTMENT</th>\n",
       "      <th>WATER LEAK</th>\n",
       "      <th>Water Conservation</th>\n",
       "      <th>Water Quality</th>\n",
       "      <th>Water System</th>\n",
       "    </tr>\n",
       "  </thead>\n",
       "  <tbody>\n",
       "    <tr>\n",
       "      <th>489294</th>\n",
       "      <td>2016-07-25</td>\n",
       "      <td>206</td>\n",
       "      <td>2</td>\n",
       "      <td>18</td>\n",
       "      <td>1</td>\n",
       "      <td>1</td>\n",
       "      <td>40.627048</td>\n",
       "      <td>-73.956657</td>\n",
       "      <td>0</td>\n",
       "      <td>0</td>\n",
       "      <td>1</td>\n",
       "      <td>0</td>\n",
       "      <td>1</td>\n",
       "      <td>0</td>\n",
       "      <td>0</td>\n",
       "      <td>0</td>\n",
       "      <td>0</td>\n",
       "      <td>0</td>\n",
       "      <td>0</td>\n",
       "      <td>0</td>\n",
       "      <td>0</td>\n",
       "      <td>0</td>\n",
       "      <td>0</td>\n",
       "      <td>0</td>\n",
       "      <td>0</td>\n",
       "      <td>0</td>\n",
       "      <td>0</td>\n",
       "      <td>0</td>\n",
       "      <td>0</td>\n",
       "      <td>0</td>\n",
       "      <td>0</td>\n",
       "      <td>0</td>\n",
       "      <td>0</td>\n",
       "      <td>1</td>\n",
       "      <td>0</td>\n",
       "      <td>0</td>\n",
       "      <td>0</td>\n",
       "      <td>0</td>\n",
       "      <td>0</td>\n",
       "      <td>0</td>\n",
       "      <td>0</td>\n",
       "      <td>0</td>\n",
       "      <td>0</td>\n",
       "      <td>0</td>\n",
       "      <td>0</td>\n",
       "      <td>0</td>\n",
       "      <td>0</td>\n",
       "      <td>0</td>\n",
       "      <td>0</td>\n",
       "      <td>0</td>\n",
       "      <td>0</td>\n",
       "      <td>0</td>\n",
       "      <td>0</td>\n",
       "      <td>0</td>\n",
       "      <td>0</td>\n",
       "      <td>0</td>\n",
       "      <td>0</td>\n",
       "      <td>0</td>\n",
       "      <td>0</td>\n",
       "      <td>0</td>\n",
       "      <td>0</td>\n",
       "      <td>0</td>\n",
       "      <td>0</td>\n",
       "    </tr>\n",
       "    <tr>\n",
       "      <th>638494</th>\n",
       "      <td>2016-10-09</td>\n",
       "      <td>282</td>\n",
       "      <td>2</td>\n",
       "      <td>42</td>\n",
       "      <td>1</td>\n",
       "      <td>3</td>\n",
       "      <td>40.691269</td>\n",
       "      <td>-73.831116</td>\n",
       "      <td>0</td>\n",
       "      <td>0</td>\n",
       "      <td>1</td>\n",
       "      <td>0</td>\n",
       "      <td>1</td>\n",
       "      <td>0</td>\n",
       "      <td>0</td>\n",
       "      <td>0</td>\n",
       "      <td>0</td>\n",
       "      <td>0</td>\n",
       "      <td>0</td>\n",
       "      <td>0</td>\n",
       "      <td>0</td>\n",
       "      <td>0</td>\n",
       "      <td>0</td>\n",
       "      <td>0</td>\n",
       "      <td>0</td>\n",
       "      <td>0</td>\n",
       "      <td>0</td>\n",
       "      <td>0</td>\n",
       "      <td>0</td>\n",
       "      <td>0</td>\n",
       "      <td>0</td>\n",
       "      <td>0</td>\n",
       "      <td>0</td>\n",
       "      <td>0</td>\n",
       "      <td>0</td>\n",
       "      <td>0</td>\n",
       "      <td>0</td>\n",
       "      <td>0</td>\n",
       "      <td>0</td>\n",
       "      <td>0</td>\n",
       "      <td>0</td>\n",
       "      <td>0</td>\n",
       "      <td>0</td>\n",
       "      <td>0</td>\n",
       "      <td>0</td>\n",
       "      <td>0</td>\n",
       "      <td>0</td>\n",
       "      <td>0</td>\n",
       "      <td>0</td>\n",
       "      <td>0</td>\n",
       "      <td>0</td>\n",
       "      <td>0</td>\n",
       "      <td>0</td>\n",
       "      <td>0</td>\n",
       "      <td>0</td>\n",
       "      <td>0</td>\n",
       "      <td>0</td>\n",
       "      <td>1</td>\n",
       "      <td>0</td>\n",
       "      <td>0</td>\n",
       "      <td>0</td>\n",
       "      <td>0</td>\n",
       "      <td>0</td>\n",
       "    </tr>\n",
       "    <tr>\n",
       "      <th>575651</th>\n",
       "      <td>2016-09-03</td>\n",
       "      <td>246</td>\n",
       "      <td>2</td>\n",
       "      <td>30</td>\n",
       "      <td>1</td>\n",
       "      <td>1</td>\n",
       "      <td>40.650700</td>\n",
       "      <td>-73.935104</td>\n",
       "      <td>0</td>\n",
       "      <td>0</td>\n",
       "      <td>1</td>\n",
       "      <td>0</td>\n",
       "      <td>1</td>\n",
       "      <td>0</td>\n",
       "      <td>0</td>\n",
       "      <td>0</td>\n",
       "      <td>0</td>\n",
       "      <td>0</td>\n",
       "      <td>0</td>\n",
       "      <td>0</td>\n",
       "      <td>0</td>\n",
       "      <td>0</td>\n",
       "      <td>0</td>\n",
       "      <td>0</td>\n",
       "      <td>0</td>\n",
       "      <td>0</td>\n",
       "      <td>0</td>\n",
       "      <td>0</td>\n",
       "      <td>0</td>\n",
       "      <td>0</td>\n",
       "      <td>0</td>\n",
       "      <td>0</td>\n",
       "      <td>0</td>\n",
       "      <td>0</td>\n",
       "      <td>0</td>\n",
       "      <td>0</td>\n",
       "      <td>0</td>\n",
       "      <td>0</td>\n",
       "      <td>0</td>\n",
       "      <td>0</td>\n",
       "      <td>0</td>\n",
       "      <td>0</td>\n",
       "      <td>0</td>\n",
       "      <td>0</td>\n",
       "      <td>0</td>\n",
       "      <td>1</td>\n",
       "      <td>0</td>\n",
       "      <td>0</td>\n",
       "      <td>0</td>\n",
       "      <td>0</td>\n",
       "      <td>0</td>\n",
       "      <td>0</td>\n",
       "      <td>0</td>\n",
       "      <td>0</td>\n",
       "      <td>0</td>\n",
       "      <td>0</td>\n",
       "      <td>0</td>\n",
       "      <td>0</td>\n",
       "      <td>0</td>\n",
       "      <td>0</td>\n",
       "      <td>0</td>\n",
       "      <td>0</td>\n",
       "      <td>0</td>\n",
       "    </tr>\n",
       "    <tr>\n",
       "      <th>1091143</th>\n",
       "      <td>2017-03-22</td>\n",
       "      <td>446</td>\n",
       "      <td>2</td>\n",
       "      <td>31</td>\n",
       "      <td>1</td>\n",
       "      <td>2</td>\n",
       "      <td>40.851414</td>\n",
       "      <td>-73.936172</td>\n",
       "      <td>0</td>\n",
       "      <td>0</td>\n",
       "      <td>1</td>\n",
       "      <td>0</td>\n",
       "      <td>1</td>\n",
       "      <td>0</td>\n",
       "      <td>0</td>\n",
       "      <td>0</td>\n",
       "      <td>0</td>\n",
       "      <td>0</td>\n",
       "      <td>0</td>\n",
       "      <td>0</td>\n",
       "      <td>0</td>\n",
       "      <td>0</td>\n",
       "      <td>0</td>\n",
       "      <td>0</td>\n",
       "      <td>0</td>\n",
       "      <td>0</td>\n",
       "      <td>0</td>\n",
       "      <td>0</td>\n",
       "      <td>0</td>\n",
       "      <td>0</td>\n",
       "      <td>0</td>\n",
       "      <td>0</td>\n",
       "      <td>0</td>\n",
       "      <td>0</td>\n",
       "      <td>0</td>\n",
       "      <td>0</td>\n",
       "      <td>0</td>\n",
       "      <td>0</td>\n",
       "      <td>0</td>\n",
       "      <td>0</td>\n",
       "      <td>0</td>\n",
       "      <td>0</td>\n",
       "      <td>0</td>\n",
       "      <td>0</td>\n",
       "      <td>0</td>\n",
       "      <td>0</td>\n",
       "      <td>1</td>\n",
       "      <td>0</td>\n",
       "      <td>0</td>\n",
       "      <td>0</td>\n",
       "      <td>0</td>\n",
       "      <td>0</td>\n",
       "      <td>0</td>\n",
       "      <td>0</td>\n",
       "      <td>0</td>\n",
       "      <td>0</td>\n",
       "      <td>0</td>\n",
       "      <td>0</td>\n",
       "      <td>0</td>\n",
       "      <td>0</td>\n",
       "      <td>0</td>\n",
       "      <td>0</td>\n",
       "      <td>0</td>\n",
       "    </tr>\n",
       "  </tbody>\n",
       "</table>\n",
       "</div>"
      ],
      "text/plain": [
       "                day  created_date  agency  complaint_type  status  borough  \\\n",
       "489294   2016-07-25           206       2              18       1        1   \n",
       "638494   2016-10-09           282       2              42       1        3   \n",
       "575651   2016-09-03           246       2              30       1        1   \n",
       "1091143  2017-03-22           446       2              31       1        2   \n",
       "\n",
       "          latitude  longitude  DEP  DOB  HPD  Assigned  Closed  Open  Started  \\\n",
       "489294   40.627048 -73.956657    0    0    1         0       1     0        0   \n",
       "638494   40.691269 -73.831116    0    0    1         0       1     0        0   \n",
       "575651   40.650700 -73.935104    0    0    1         0       1     0        0   \n",
       "1091143  40.851414 -73.936172    0    0    1         0       1     0        0   \n",
       "\n",
       "         AGENCY  APPLIANCE  ATF  Air Quality  Asbestos  BEST/Site Safety  \\\n",
       "489294        0          0    0            0         0                 0   \n",
       "638494        0          0    0            0         0                 0   \n",
       "575651        0          0    0            0         0                 0   \n",
       "1091143       0          0    0            0         0                 0   \n",
       "\n",
       "         Boilers  Building/Use  CST  Construction  Cranes and Derricks  \\\n",
       "489294         0             0    0             0                    0   \n",
       "638494         0             0    0             0                    0   \n",
       "575651         0             0    0             0                    0   \n",
       "1091143        0             0    0             0                    0   \n",
       "\n",
       "         DOOR/WINDOW  ELECTRIC  ELEVATOR  Electrical  Elevator  \\\n",
       "489294             0         0         0           0         0   \n",
       "638494             0         0         0           0         0   \n",
       "575651             0         0         0           0         0   \n",
       "1091143            0         0         0           0         0   \n",
       "\n",
       "         Emergency Response Team (ERT)  FATF  FLOORING/STAIRS  GENERAL  \\\n",
       "489294                               0     0                1        0   \n",
       "638494                               0     0                0        0   \n",
       "575651                               0     0                0        0   \n",
       "1091143                              0     0                0        0   \n",
       "\n",
       "         General Construction/Plumbing  HEAT/HOT WATER  Hazardous Materials  \\\n",
       "489294                               0               0                    0   \n",
       "638494                               0               0                    0   \n",
       "575651                               0               0                    0   \n",
       "1091143                              0               0                    0   \n",
       "\n",
       "         Industrial Waste  Interior Demo  Investigations and Discipline (IAD)  \\\n",
       "489294                  0              0                                    0   \n",
       "638494                  0              0                                    0   \n",
       "575651                  0              0                                    0   \n",
       "1091143                 0              0                                    0   \n",
       "\n",
       "         Lead  Miscellaneous Categories  Noise  OUTSIDE BUILDING  \\\n",
       "489294      0                         0      0                 0   \n",
       "638494      0                         0      0                 0   \n",
       "575651      0                         0      0                 0   \n",
       "1091143     0                         0      0                 0   \n",
       "\n",
       "         PAINT/PLASTER  PLUMBING  Plant  Plumbing  SAFETY  SRDE  \\\n",
       "489294               0         0      0         0       0     0   \n",
       "638494               0         0      0         0       0     0   \n",
       "575651               1         0      0         0       0     0   \n",
       "1091143              0         1      0         0       0     0   \n",
       "\n",
       "         Scaffold Safety  Sewer  Special Enforcement  \\\n",
       "489294                 0      0                    0   \n",
       "638494                 0      0                    0   \n",
       "575651                 0      0                    0   \n",
       "1091143                0      0                    0   \n",
       "\n",
       "         Special Natural Area District (SNAD)  \\\n",
       "489294                                      0   \n",
       "638494                                      0   \n",
       "575651                                      0   \n",
       "1091143                                     0   \n",
       "\n",
       "         Special Projects Inspection Team (SPIT)  Stalled Sites  \\\n",
       "489294                                         0              0   \n",
       "638494                                         0              0   \n",
       "575651                                         0              0   \n",
       "1091143                                        0              0   \n",
       "\n",
       "         UNSANITARY CONDITION  VACANT APARTMENT  WATER LEAK  \\\n",
       "489294                      0                 0           0   \n",
       "638494                      1                 0           0   \n",
       "575651                      0                 0           0   \n",
       "1091143                     0                 0           0   \n",
       "\n",
       "         Water Conservation  Water Quality  Water System  \n",
       "489294                    0              0             0  \n",
       "638494                    0              0             0  \n",
       "575651                    0              0             0  \n",
       "1091143                   0              0             0  "
      ]
     },
     "execution_count": 417,
     "metadata": {},
     "output_type": "execute_result"
    }
   ],
   "source": [
    "samp311.head(4)"
   ]
  },
  {
   "cell_type": "code",
   "execution_count": 411,
   "metadata": {
    "collapsed": true
   },
   "outputs": [],
   "source": [
    "# Create train and test variable, and cross validation\n",
    "\n",
    "X_train,X_test,y_train,y_test = train_test_split(X, y, test_size = .33, random_state= 7779311)"
   ]
  },
  {
   "cell_type": "code",
   "execution_count": 412,
   "metadata": {},
   "outputs": [
    {
     "data": {
      "text/plain": [
       "(207955, 57)"
      ]
     },
     "execution_count": 412,
     "metadata": {},
     "output_type": "execute_result"
    }
   ],
   "source": [
    "X_train.shape"
   ]
  },
  {
   "cell_type": "markdown",
   "metadata": {},
   "source": [
    "### FINAL PREPROCESSING\n",
    "Made preprocessing adjustments to the model to standardize the scale"
   ]
  },
  {
   "cell_type": "code",
   "execution_count": 413,
   "metadata": {
    "collapsed": true
   },
   "outputs": [],
   "source": [
    "# Standardize the  features, because there are so many \"one hot\" columns, i wanted to be sure to dampen the impact\n",
    "# of the other numeric columns that had larger values(ie. created date, and complaint type )\n",
    "ss = StandardScaler()\n",
    "X_train = ss.fit_transform(X_train)\n",
    "X_test = ss.transform(X_test)"
   ]
  },
  {
   "cell_type": "markdown",
   "metadata": {},
   "source": [
    "<a id='MS'></a>\n",
    "\n",
    "## MODEL SELECTION / REFINEMENT"
   ]
  },
  {
   "cell_type": "code",
   "execution_count": 414,
   "metadata": {
    "collapsed": true
   },
   "outputs": [],
   "source": [
    "# Chose a Logistic Regression because it was a simple model to evaluate classification problems, and returns\n",
    "# coeeficient values associated with each feature, which make it the interpretation of impact easily comparable.\n",
    "\n",
    "lg = LogisticRegression() #C= 500, n_jobs= -1, penalty= 'l2'\n",
    "# model = lg.fit(X_train,y_train)"
   ]
  },
  {
   "cell_type": "code",
   "execution_count": 415,
   "metadata": {
    "collapsed": true
   },
   "outputs": [
    {
     "name": "stdout",
     "output_type": "stream",
     "text": [
      "Fitting estimator with 57 features.\n",
      "Fitting estimator with 56 features.\n",
      "Fitting estimator with 55 features.\n",
      "Fitting estimator with 54 features.\n",
      "Fitting estimator with 53 features.\n",
      "Fitting estimator with 52 features.\n",
      "Fitting estimator with 51 features.\n",
      "Fitting estimator with 50 features.\n",
      "Fitting estimator with 49 features.\n",
      "Fitting estimator with 48 features.\n",
      "Fitting estimator with 47 features.\n",
      "Fitting estimator with 46 features.\n",
      "Fitting estimator with 45 features.\n",
      "Fitting estimator with 44 features.\n",
      "Fitting estimator with 43 features.\n",
      "Fitting estimator with 42 features.\n",
      "Fitting estimator with 41 features.\n",
      "Fitting estimator with 40 features.\n",
      "Fitting estimator with 39 features.\n",
      "Fitting estimator with 38 features.\n",
      "Fitting estimator with 37 features.\n",
      "Fitting estimator with 36 features.\n",
      "Fitting estimator with 35 features.\n",
      "Fitting estimator with 34 features.\n",
      "Fitting estimator with 33 features.\n",
      "Fitting estimator with 32 features.\n",
      "Fitting estimator with 31 features.\n",
      "Fitting estimator with 30 features.\n",
      "Fitting estimator with 29 features.\n"
     ]
    }
   ],
   "source": [
    "# Ran the model with Recursive Feature Elimination in an attempt to find an optimal number of features to use.\n",
    "\n",
    "rfe = RFE(lg, n_features_to_select=None,step = 1, verbose=2 )\n",
    "rfmodel = rfe.fit(X_train,y_train)"
   ]
  },
  {
   "cell_type": "code",
   "execution_count": 408,
   "metadata": {},
   "outputs": [
    {
     "data": {
      "text/plain": [
       "0.34541673582160953"
      ]
     },
     "execution_count": 408,
     "metadata": {},
     "output_type": "execute_result"
    }
   ],
   "source": [
    "## RFE to reduce the number of features to 29 (by 1/2)\n",
    "# rfmodel.score(X_test,y_test)"
   ]
  },
  {
   "cell_type": "code",
   "execution_count": 416,
   "metadata": {},
   "outputs": [
    {
     "data": {
      "text/plain": [
       "0.35189940152498855"
      ]
     },
     "execution_count": 416,
     "metadata": {},
     "output_type": "execute_result"
    }
   ],
   "source": [
    "# Model result with Standardization and RFE(default 1/2 params) for model selection\n",
    "rfmodel.score(X_test,y_test)"
   ]
  },
  {
   "cell_type": "markdown",
   "metadata": {},
   "source": [
    "## GRID SEARCH\n",
    "Created a GridSearch in order to search for best parameter combinations"
   ]
  },
  {
   "cell_type": "code",
   "execution_count": 348,
   "metadata": {
    "collapsed": true
   },
   "outputs": [],
   "source": [
    "# Attempt to find best combination of Loss function and Regularization that would maximize the Logistic regression\n",
    "# accuracy\n",
    "\n",
    "lg_params= {\n",
    "    \"penalty\" :['l1',\"l2\"],\n",
    "    'C':[1,10,20,40,100,200,500],\n",
    "    \"n_jobs\":[-1]\n",
    "}"
   ]
  },
  {
   "cell_type": "code",
   "execution_count": 349,
   "metadata": {},
   "outputs": [
    {
     "name": "stdout",
     "output_type": "stream",
     "text": [
      "Fitting 3 folds for each of 14 candidates, totalling 42 fits\n"
     ]
    },
    {
     "name": "stderr",
     "output_type": "stream",
     "text": [
      "[Parallel(n_jobs=3)]: Done  42 out of  42 | elapsed:  1.0min finished\n"
     ]
    }
   ],
   "source": [
    "gs = GridSearchCV(lg,param_grid=lg_params,verbose=1,n_jobs = 3)\n",
    "gsmodel= gs.fit(X_train,y_train)"
   ]
  },
  {
   "cell_type": "code",
   "execution_count": 350,
   "metadata": {},
   "outputs": [
    {
     "data": {
      "text/plain": [
       "{'C': 500, 'n_jobs': -1, 'penalty': 'l2'}"
      ]
     },
     "execution_count": 350,
     "metadata": {},
     "output_type": "execute_result"
    }
   ],
   "source": [
    "gsmodel.best_params_"
   ]
  },
  {
   "cell_type": "code",
   "execution_count": 391,
   "metadata": {},
   "outputs": [
    {
     "data": {
      "text/plain": [
       "0.3527780760932176"
      ]
     },
     "execution_count": 391,
     "metadata": {},
     "output_type": "execute_result"
    }
   ],
   "source": [
    "#MODEL SCORE WITH GRID SEARCH BEST PARAMS on 3CV folds/14 params {'C': 500, 'n_jobs': -1, 'penalty': 'l2'}\n",
    "\n",
    "model.score(X_test,y_test)"
   ]
  },
  {
   "cell_type": "markdown",
   "metadata": {},
   "source": [
    "<a id='Conc'></a>\n",
    "\n",
    "## Conclusion\n",
    "I found that the gridsearching over several parameter and RFE on standardized inputs both resulted in \n",
    "Accuracy scores that beat baseline by ~10%.\n",
    "\n",
    "Although the current  model isn't highly predictive in an absolute since there may be further actions taken in\n",
    "an attempt to increase accuracy."
   ]
  },
  {
   "cell_type": "markdown",
   "metadata": {},
   "source": [
    "<a id='NS'></a>\n",
    "\n",
    "## Next Steps\n",
    "- Additional Feature Creation: NLP crossover techniques // occurrence counts\n",
    "- Make use of Time Series in contextual framework and modelling\n",
    "- Apply new models; RandomForest, XGBoost, Neural Net\n",
    "- Incorporate  additional NYC data elements\n",
    "- Work towards GeoLocation and Real Estate application"
   ]
  }
 ],
 "metadata": {
  "kernelspec": {
   "display_name": "Python 3",
   "language": "python",
   "name": "python3"
  },
  "language_info": {
   "codemirror_mode": {
    "name": "ipython",
    "version": 3
   },
   "file_extension": ".py",
   "mimetype": "text/x-python",
   "name": "python",
   "nbconvert_exporter": "python",
   "pygments_lexer": "ipython3",
   "version": "3.6.1"
  }
 },
 "nbformat": 4,
 "nbformat_minor": 2
}
